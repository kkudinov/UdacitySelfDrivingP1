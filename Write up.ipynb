{
 "cells": [
  {
   "cell_type": "markdown",
   "metadata": {},
   "source": [
    "\n",
    "## Project: **Finding Lane Lines on the Road** \n"
   ]
  },
  {
   "cell_type": "markdown",
   "metadata": {},
   "source": [
    "The goals of the project are:\n",
    "* Make a pipeline that finds lane lines on the road\n",
    "* Reflect on your work in a written report\n",
    "\n"
   ]
  },
  {
   "cell_type": "markdown",
   "metadata": {},
   "source": [
    "[//]: # (Image References)\n",
    "[image1]: ./test_images_output/Original.png \"Original image\"\n",
    "[image2]: ./test_images_output/Grayscale.png \"Grayscale and Gaussian smooth\"\n",
    "[image3]: ./test_images_output/Canny_filter.png \"Canny filter\"\n",
    "[image4]: ./test_images_output/Canny_with_ROI.png \"Canny with ROI\"\n",
    "[image5]: ./test_images_output/Overlay.png \"Overlay\"\n",
    "\n",
    "### Desription of the pipeline\n",
    "1. convert image to the grayscale\n",
    "2. Apply gaussian smoothing\n",
    "3. Apply Canny filter for rough line detection\n",
    "4. Apply a prism-shaped polygon to the Canny image in order to select a region of interest in the image\n",
    "5. Search for lines in Hough space\n",
    "6. Sort line fragments by slope (left and right line).\n",
    "7. Through away noticeble outliers (optional, not implemented)\n",
    "8. Generate left and right traffic lines coordinates in the image frame by averagind left and right line segments.\n",
    "9. Draw these lines on the frame.\n",
    "\n",
    "### Some thoughts on the order of the steps described in the pipeline above:\n",
    "1. implementation of the Gaussian blur was very helpful for decreasing the noise line fragments\n",
    "2. Order of steps in the pipeline is important. For example, in the case one first applies a polygon mask, and then canny filter, there always will be an issue with detecting a border of the polygon as an edge due to shart threshold from image to black color. It can be bypassed by removing lines that have same parameters as a polygon boarders. I did not go ths way though, in order not degress too much from the pain task. The benefit of following this approach is  speeding up the computation with custom Canny filter that would ignore area outside teh ROI.\n",
    "3. The ROI should be defined with respect to the frame boarders. This way if there are videos with different resolution, the code still will work correctly.\n",
    "4. Step #6 should be detecting the outliers among the detected line segments and disregard them. This would help make lines drown on the video more stable.\n",
    "\n",
    "### Implementation:\n",
    "for exact implementation see attached jupiter notebook. \n",
    "Full pipeline output for one of the images is below:\n",
    "\n",
    "original image:\n",
    "![original image][image1]\n",
    "\n",
    "Garyscale and gaussian smooth:\n",
    "![image2]\n",
    "\n",
    "Canny filter applied:\n",
    "![image3]\n",
    "\n",
    "Canny filter applied and ROI selected:\n",
    "![image4]\n",
    "\n",
    "Lines overlayed with the original image:\n",
    "![image5]\n",
    "\n",
    "### Potential (actuall) issues:\n",
    "1. Current analysis treats every frame of the video separately from each otehr. While it should not lead to any issues by itself, the drawn lines on the video 'dance' around and jitter. One way to avoid it is to have a feed back between the frames, assuming that the lines do not change much from frame to frame.\n",
    "2. Sometimes Gaussian smoothing can 'smooth' lines too much, to the nondetectable state. One way to mitigate it is to have adaptive strength of the gaussian smoothing. The gaussian blur radius would be selected based on the overall sharpness of the picture. \n",
    "3. Current line smoothing is prone to noise in teh frame. Canny detects additional line segments that can be qaulified as a 'right' or 'left' line (caviats in the road texture. This leads to jitter of the detected line from frame to frame ans sometimes arrors in the line detection. \n",
    "\n",
    "### Potential improvements:\n",
    "Improvements come from the identidied issues above: \n",
    "1. Implement a feedback between the frames assuming that traffic line cannot change abruptly between frames. \n",
    "2. Implement intellegent gaussian smoothing based on the overall sharpness of the picture\n",
    "3. During the procesing of the line segments one should implement intellegent averaging of the left and right line segments. That is through away any segments that deviate too much (say, by 2 sigma) from the mean population and only after that average segments. This would allow to get rig of additional jitter due to noise in the frame. "
   ]
  },
  {
   "cell_type": "code",
   "execution_count": null,
   "metadata": {},
   "outputs": [],
   "source": []
  }
 ],
 "metadata": {
  "kernelspec": {
   "display_name": "Python 3",
   "language": "python",
   "name": "python3"
  },
  "language_info": {
   "codemirror_mode": {
    "name": "ipython",
    "version": 3
   },
   "file_extension": ".py",
   "mimetype": "text/x-python",
   "name": "python",
   "nbconvert_exporter": "python",
   "pygments_lexer": "ipython3",
   "version": "3.6.4"
  }
 },
 "nbformat": 4,
 "nbformat_minor": 2
}
