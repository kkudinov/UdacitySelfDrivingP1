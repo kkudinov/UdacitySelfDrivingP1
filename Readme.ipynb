{
 "cells": [
  {
   "cell_type": "markdown",
   "metadata": {},
   "source": [
    "For an overview of the project please see the write up.md file\n",
    "\n",
    "list of files and folders: \n",
    "Folders:\n",
    "examples - examples of how processed images and videos might look like\n",
    "test_images - a set of test frames for modifying and testing pipeline of the line detection\n",
    "test_videos - a set of test videos to test the line detection pipeline\n",
    "test_images_output - optupts of the current code implemented to images\n",
    "test_videos_output - outputs of the current code implemented to videos. Nothing is perfect from the begining\n",
    "\n",
    "License - license file\n",
    "P1.ipynb - jupiter notebook with the code examples. Used as starting point.\n",
    "Project_final_version (html and ipynb) curent code producing test_videos_output and test_images_output\n",
    "write up.md - a short write up of the project. "
   ]
  }
 ],
 "metadata": {
  "kernelspec": {
   "display_name": "Python 3",
   "language": "python",
   "name": "python3"
  },
  "language_info": {
   "codemirror_mode": {
    "name": "ipython",
    "version": 3
   },
   "file_extension": ".py",
   "mimetype": "text/x-python",
   "name": "python",
   "nbconvert_exporter": "python",
   "pygments_lexer": "ipython3",
   "version": "3.6.4"
  }
 },
 "nbformat": 4,
 "nbformat_minor": 2
}
